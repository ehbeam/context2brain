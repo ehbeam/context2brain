{
 "cells": [
  {
   "cell_type": "code",
   "execution_count": 1,
   "metadata": {},
   "outputs": [],
   "source": [
    "import os, torch\n",
    "import torch.nn as nn\n",
    "import torch.nn.functional as F\n",
    "from torch.autograd import Variable\n",
    "import torch.optim as optim\n",
    "torch.manual_seed(42)\n",
    "\n",
    "import numpy as np\n",
    "import pandas as pd\n",
    "\n",
    "from utilities import load_coordinates, load_dtm, load_mini_batches, plot_loss\n",
    "from utilities import report_macro, report_class, compute_roc, compute_prc, plot_curves\n",
    "%matplotlib inline"
   ]
  },
  {
   "cell_type": "markdown",
   "metadata": {},
   "source": [
    "# Specify model hyperparameters"
   ]
  },
  {
   "cell_type": "code",
   "execution_count": 2,
   "metadata": {},
   "outputs": [],
   "source": [
    "n_epochs = 5\n",
    "batch_size = 64\n",
    "lr = 0.001\n",
    "weight_decay = 0.00001"
   ]
  },
  {
   "cell_type": "markdown",
   "metadata": {},
   "source": [
    "# Specify plotting parameters"
   ]
  },
  {
   "cell_type": "code",
   "execution_count": 3,
   "metadata": {},
   "outputs": [],
   "source": [
    "color = \"#7f5b93\" # Color for plotting evaluation metrics and word clouds\n",
    "cmap = \"Purples\" # Color map for plotting brain structures\n",
    "prefix = \"con\" # Prefix for plot file names\n",
    "n_top = 15 # Number of terms (i.e., inputs) to plot per brain structure (i.e., class)\n",
    "fname = \"figures/style/computer-modern/cmunss.ttf\" # Name of the font"
   ]
  },
  {
   "cell_type": "markdown",
   "metadata": {},
   "source": [
    "# Load the data\n",
    "\n",
    "## Brain activation coordinates"
   ]
  },
  {
   "cell_type": "code",
   "execution_count": 4,
   "metadata": {},
   "outputs": [
    {
     "name": "stdout",
     "output_type": "stream",
     "text": [
      "Documents   18155\n",
      "Structures  114\n"
     ]
    }
   ],
   "source": [
    "act_bin = load_coordinates()\n",
    "n_structs = act_bin.shape[1]\n",
    "print(\"{:12s}{}\".format(\"Documents\", act_bin.shape[0]))\n",
    "print(\"{:12s}{}\".format(\"Structures\", n_structs))"
   ]
  },
  {
   "cell_type": "code",
   "execution_count": 5,
   "metadata": {},
   "outputs": [],
   "source": [
    "pmids = act_bin.index"
   ]
  },
  {
   "cell_type": "markdown",
   "metadata": {},
   "source": [
    "# Split the data\n",
    "\n",
    "## Training and dev sets"
   ]
  },
  {
   "cell_type": "code",
   "execution_count": 6,
   "metadata": {},
   "outputs": [],
   "source": [
    "splits = {}\n",
    "split_names = [\"train\", \"dev\"]\n",
    "for split in split_names:\n",
    "    splits[split] = [int(pmid.strip()) for pmid in open(\"data/splits/{}.txt\".format(split), \"r\").readlines()]"
   ]
  },
  {
   "cell_type": "markdown",
   "metadata": {},
   "source": [
    "## LSTM encodings"
   ]
  },
  {
   "cell_type": "code",
   "execution_count": 7,
   "metadata": {},
   "outputs": [],
   "source": [
    "from lstm import data\n",
    "import sys\n",
    "sys.path.insert(0, \"./lstm\")"
   ]
  },
  {
   "cell_type": "code",
   "execution_count": 8,
   "metadata": {},
   "outputs": [],
   "source": [
    "device = \"cpu\""
   ]
  },
  {
   "cell_type": "code",
   "execution_count": null,
   "metadata": {},
   "outputs": [
    {
     "name": "stderr",
     "output_type": "stream",
     "text": [
      "/Users/ehbeam/anaconda/envs/ontol/lib/python3.6/site-packages/torch/serialization.py:435: SourceChangeWarning: source code of class 'torch.nn.modules.dropout.Dropout' has changed. you can retrieve the original source code by accessing the object's source attribute or set `torch.nn.Module.dump_patches = True` and use the patch tool to revert the changes.\n",
      "  warnings.warn(msg, SourceChangeWarning)\n",
      "/Users/ehbeam/anaconda/envs/ontol/lib/python3.6/site-packages/torch/serialization.py:435: SourceChangeWarning: source code of class 'torch.nn.modules.sparse.Embedding' has changed. you can retrieve the original source code by accessing the object's source attribute or set `torch.nn.Module.dump_patches = True` and use the patch tool to revert the changes.\n",
      "  warnings.warn(msg, SourceChangeWarning)\n",
      "/Users/ehbeam/anaconda/envs/ontol/lib/python3.6/site-packages/torch/serialization.py:435: SourceChangeWarning: source code of class 'torch.nn.modules.rnn.LSTM' has changed. you can retrieve the original source code by accessing the object's source attribute or set `torch.nn.Module.dump_patches = True` and use the patch tool to revert the changes.\n",
      "  warnings.warn(msg, SourceChangeWarning)\n",
      "/Users/ehbeam/anaconda/envs/ontol/lib/python3.6/site-packages/torch/serialization.py:435: SourceChangeWarning: source code of class 'torch.nn.modules.linear.Linear' has changed. you can retrieve the original source code by accessing the object's source attribute or set `torch.nn.Module.dump_patches = True` and use the patch tool to revert the changes.\n",
      "  warnings.warn(msg, SourceChangeWarning)\n"
     ]
    },
    {
     "data": {
      "text/plain": [
       "RNNModel(\n",
       "  (drop): Dropout(p=0.5)\n",
       "  (encoder): Embedding(1543, 100)\n",
       "  (rnn): LSTM(100, 100, num_layers=3, dropout=0.5)\n",
       "  (decoder): Linear(in_features=100, out_features=1543, bias=True)\n",
       ")"
      ]
     },
     "execution_count": 9,
     "metadata": {},
     "output_type": "execute_result"
    }
   ],
   "source": [
    "model = torch.load(open(\"models/lstm.pt\", 'rb'), map_location=device).to(device)\n",
    "model.eval()"
   ]
  },
  {
   "cell_type": "code",
   "execution_count": null,
   "metadata": {},
   "outputs": [],
   "source": [
    "corpus = data.Corpus(\"data/text\")\n",
    "ntokens = len(corpus.dictionary)\n",
    "n_hid = 100"
   ]
  },
  {
   "cell_type": "code",
   "execution_count": null,
   "metadata": {},
   "outputs": [],
   "source": [
    "class Document(object):\n",
    "    def __init__(self, doc_words):\n",
    "        self.doc = self.tokenize(doc_words)\n",
    "\n",
    "    def tokenize(self, doc_words):\n",
    "        \"\"\"Tokenizes a single document.\"\"\"\n",
    "        doc_words += ' <eos>'\n",
    "        ids = torch.LongTensor(len(doc_words.split()))\n",
    "        for token, word in enumerate(doc_words.split()):\n",
    "            ids[token] = corpus.dictionary.word2idx[word]\n",
    "        return ids"
   ]
  },
  {
   "cell_type": "code",
   "execution_count": null,
   "metadata": {},
   "outputs": [],
   "source": [
    "docs = {split: open(\"data/text/corpus_{}.txt\".format(split), \"r\").readlines() for split in split_names}"
   ]
  },
  {
   "cell_type": "code",
   "execution_count": null,
   "metadata": {},
   "outputs": [
    {
     "name": "stdout",
     "output_type": "stream",
     "text": [
      "Encoding the train set\n",
      "   Encoded 0th document\n",
      "   Encoded 1000th document\n",
      "   Encoded 2000th document\n",
      "   Encoded 3000th document\n",
      "   Encoded 4000th document\n",
      "   Encoded 5000th document\n"
     ]
    }
   ],
   "source": [
    "cons = {}\n",
    "for split in split_names:\n",
    "    print(\"Encoding the {} set\".format(split))\n",
    "    con = np.zeros((len(splits[split]), n_hid))\n",
    "    with torch.no_grad():  \n",
    "        for i in range(len(docs[split])): \n",
    "            hidden = model.init_hidden(1)\n",
    "            tokens = Document(docs[split][i]).doc\n",
    "            for token in tokens:\n",
    "                token = token.view((1, 1))\n",
    "                output, hidden = model(token, hidden)\n",
    "            con[i,:] = hidden[1][2].numpy()\n",
    "            if i % 1000 == 0:\n",
    "                print(\"   Encoded {}th document\".format(i))\n",
    "        cons[split] = con"
   ]
  },
  {
   "cell_type": "markdown",
   "metadata": {},
   "source": [
    "# Compute the inputs and outputs\n",
    "\n",
    "## Inputs\n",
    "\n",
    "Inputs are hidden layer encodings from the LSTM model."
   ]
  },
  {
   "cell_type": "code",
   "execution_count": null,
   "metadata": {},
   "outputs": [],
   "source": [
    "X = cons[\"train\"].transpose()"
   ]
  },
  {
   "cell_type": "markdown",
   "metadata": {},
   "source": [
    "## Outputs\n",
    "\n",
    "Outputs are labels for whether or not a given article reported a coordinate in each brain structure."
   ]
  },
  {
   "cell_type": "code",
   "execution_count": null,
   "metadata": {},
   "outputs": [],
   "source": [
    "Y = act_bin.loc[splits[\"train\"]].transpose().values"
   ]
  },
  {
   "cell_type": "markdown",
   "metadata": {},
   "source": [
    "## Random mini-batches"
   ]
  },
  {
   "cell_type": "code",
   "execution_count": null,
   "metadata": {},
   "outputs": [],
   "source": [
    "mini_batches = load_mini_batches(X, Y, mini_batch_size=batch_size, seed=42)"
   ]
  },
  {
   "cell_type": "markdown",
   "metadata": {},
   "source": [
    "# Specify the classifier"
   ]
  },
  {
   "cell_type": "code",
   "execution_count": null,
   "metadata": {},
   "outputs": [],
   "source": [
    "class Net(nn.Module):\n",
    "    def __init__(self):\n",
    "        super(Net, self).__init__()\n",
    "        self.fc1 = nn.Linear(n_emb, 100)\n",
    "        self.fc2 = nn.Linear(100, 100)\n",
    "        self.fc3 = nn.Linear(100, 100)\n",
    "        self.fc4 = nn.Linear(100, 100)\n",
    "        self.fc5 = nn.Linear(100, 100)\n",
    "        self.dropout1 = nn.Dropout(p=0.5),\n",
    "        self.fc6 = nn.Linear(100, 100)\n",
    "        self.dropout2 = nn.Dropout(p=0.5),\n",
    "        self.fc7 = nn.Linear(100, 100)\n",
    "        self.dropout3 = nn.Dropout(p=0.5),\n",
    "        self.fc8 = nn.Linear(100, n_structs)\n",
    "        \n",
    "        # Xavier initialization for weights\n",
    "        for fc in [self.fc1, self.fc2, self.fc3, self.fc4,\n",
    "                   self.fc5, self.fc6, self.fc7, self.fc8]:\n",
    "            nn.init.xavier_uniform_(fc.weight)\n",
    "\n",
    "    def forward(self, x):\n",
    "        x = F.relu(self.fc1(x))\n",
    "        x = F.relu(self.fc2(x))\n",
    "        x = F.relu(self.fc3(x))\n",
    "        x = F.relu(self.fc4(x))\n",
    "        x = F.relu(self.fc5(x))\n",
    "        x = F.dropout(x)\n",
    "        x = F.relu(self.fc6(x))\n",
    "        x = F.dropout(x)\n",
    "        x = F.relu(self.fc7(x))\n",
    "        x = F.dropout(x)\n",
    "        x = torch.sigmoid(self.fc8(x))\n",
    "        return x"
   ]
  },
  {
   "cell_type": "code",
   "execution_count": null,
   "metadata": {},
   "outputs": [],
   "source": [
    "net = Net()\n",
    "criterion = F.binary_cross_entropy\n",
    "optimizer = optim.Adam(net.parameters(), lr=lr, weight_decay=weight_decay)"
   ]
  },
  {
   "cell_type": "markdown",
   "metadata": {},
   "source": [
    "# Train the classifier"
   ]
  },
  {
   "cell_type": "code",
   "execution_count": null,
   "metadata": {
    "scrolled": false
   },
   "outputs": [],
   "source": [
    "net_file = \"models/classifier_{}.pt\".format(prefix)\n",
    "if not os.path.exists(net_file):\n",
    "    \n",
    "    running_loss = []\n",
    "    for epoch in range(n_epochs):  # Loop over the dataset multiple times\n",
    "        for i, data in enumerate(mini_batches):\n",
    "\n",
    "            # Get the inputs\n",
    "            inputs, labels = data\n",
    "            inputs = Variable(torch.from_numpy(inputs.T).float())\n",
    "            labels = Variable(torch.from_numpy(labels.T).float())\n",
    "\n",
    "            # Zero the parameter gradients\n",
    "            optimizer.zero_grad()\n",
    "\n",
    "            # Forward + backward + optimize\n",
    "            outputs = net(inputs)\n",
    "            loss = criterion(outputs, labels)\n",
    "            loss.backward()\n",
    "            optimizer.step()\n",
    "\n",
    "        # Print running loss after each epoch\n",
    "        running_loss += [loss.item()]\n",
    "        if epoch % (n_epochs/20) == (n_epochs/20) - 1:\n",
    "            print(\"Epoch {:3d} \\t Loss {:6.6f}\".format(epoch + 1, running_loss[-1] / 100))\n",
    "    \n",
    "    # Export the trained model\n",
    "    torch.save(net.state_dict(), net_file)\n",
    "    \n",
    "    # Plot the loss\n",
    "    plot_loss(prefix, running_loss, xlab=\"Epoch\", ylab=\"Loss\", color=color)\n",
    "\n",
    "else:\n",
    "    net.load_state_dict(torch.load(net_file))"
   ]
  },
  {
   "cell_type": "markdown",
   "metadata": {},
   "source": [
    "# Evaluate the classifier"
   ]
  },
  {
   "cell_type": "code",
   "execution_count": null,
   "metadata": {},
   "outputs": [],
   "source": [
    "def report_curves(data_set, name): \n",
    "    with torch.no_grad():\n",
    "        inputs, labels = data_set[0]\n",
    "        inputs = Variable(torch.from_numpy(inputs.T).float())\n",
    "        labels = Variable(torch.from_numpy(labels.T).float())\n",
    "        pred_probs = net(inputs).float()\n",
    "        fpr, tpr = compute_roc(labels, pred_probs)\n",
    "        prec, rec = compute_prc(labels, pred_probs)\n",
    "        plot_curves(\"{}_roc\".format(name), fpr, tpr, diag=True, alpha=0.25,\n",
    "                    color=color, xlab=\"1 - Specificity\", ylab=\"Sensitivity\")\n",
    "        plot_curves(\"{}_prc\".format(name), rec, prec, diag=False, alpha=0.5,\n",
    "                    color=color, xlab=\"Recall\", ylab=\"Precision\")\n",
    "        \n",
    "def report_metrics(data_set):\n",
    "    with torch.no_grad():\n",
    "        inputs, labels = data_set[0]\n",
    "        inputs = Variable(torch.from_numpy(inputs.T).float())\n",
    "        labels = Variable(torch.from_numpy(labels.T).float())\n",
    "        outputs = net(inputs)\n",
    "        predictions = (outputs > 0.5).float() * 1\n",
    "        print(\"-\" * 50 + \"\\nMACRO-AVERAGED TOTAL\\n\" + \"-\" * 50)\n",
    "        report_macro(labels, predictions)\n",
    "        print(\"\\n\" + \"-\" * 50 + \"\\n\\n\")\n",
    "        for i in range(n_structs):\n",
    "            print(\"-\" * 50 + \"\\n\" + act_bin.columns[i].title().replace(\"_\", \" \") + \"\\n\" + \"-\" * 50)\n",
    "            report_class(labels[:,i], predictions[:,i])\n",
    "            print(\"\")"
   ]
  },
  {
   "cell_type": "markdown",
   "metadata": {},
   "source": [
    "## Training set performance"
   ]
  },
  {
   "cell_type": "code",
   "execution_count": null,
   "metadata": {
    "scrolled": false
   },
   "outputs": [],
   "source": [
    "train_set = load_mini_batches(X, Y, mini_batch_size=len(splits[\"train\"]), seed=42)\n",
    "report_curves(train_set, \"{}_train\".format(prefix))"
   ]
  },
  {
   "cell_type": "code",
   "execution_count": null,
   "metadata": {},
   "outputs": [],
   "source": [
    "report_metrics(train_set)"
   ]
  },
  {
   "cell_type": "markdown",
   "metadata": {},
   "source": [
    "## Dev set performance"
   ]
  },
  {
   "cell_type": "code",
   "execution_count": null,
   "metadata": {
    "scrolled": false
   },
   "outputs": [],
   "source": [
    "X_dev = cons[\"dev\"].transpose()\n",
    "Y_dev = act_bin.loc[splits[\"dev\"]].transpose().values\n",
    "dev_set = load_mini_batches(X_dev, Y_dev, mini_batch_size=len(splits[\"dev\"]), seed=42)\n",
    "report_curves(dev_set, \"{}_dev\".format(prefix))"
   ]
  },
  {
   "cell_type": "code",
   "execution_count": null,
   "metadata": {},
   "outputs": [],
   "source": [
    "report_metrics(dev_set)"
   ]
  },
  {
   "cell_type": "markdown",
   "metadata": {},
   "source": [
    "# Map a brain dictionary"
   ]
  },
  {
   "cell_type": "code",
   "execution_count": null,
   "metadata": {},
   "outputs": [],
   "source": [
    "from nilearn import image, plotting\n",
    "import matplotlib.pyplot as plt\n",
    "import matplotlib.gridspec as gridspec\n",
    "from matplotlib import font_manager\n",
    "from scipy.stats import zscore\n",
    "from wordcloud import WordCloud\n",
    "from utilities import load_atlas, mni2vox"
   ]
  },
  {
   "cell_type": "markdown",
   "metadata": {},
   "source": [
    "## Compute term activation maps\n",
    "\n",
    "Inputs are embeddings for each term. Outputs are probabilities for each brain structure predicted by the occurrence of a given term."
   ]
  },
  {
   "cell_type": "code",
   "execution_count": null,
   "metadata": {},
   "outputs": [],
   "source": [
    "terms = list(corpus.dictionary.word2idx.keys())\n",
    "term_map = pd.DataFrame(index=pmids, columns=terms)"
   ]
  },
  {
   "cell_type": "code",
   "execution_count": null,
   "metadata": {},
   "outputs": [],
   "source": [
    "for i, term in enumerate(terms):\n",
    "    token = corpus.Dictionary.word2idx[term].view((1, 1))\n",
    "    hidden = model.init_hidden(1)\n",
    "    output, hidden = model(token, hidden)\n",
    "    inputs = hidden[1][2].numpy()\n",
    "    pred_probs = net(inputs).float().detach().numpy()\n",
    "    term_map[term] = pred_probs"
   ]
  },
  {
   "cell_type": "markdown",
   "metadata": {},
   "source": [
    "## Load coordinates for brain structures"
   ]
  },
  {
   "cell_type": "code",
   "execution_count": null,
   "metadata": {},
   "outputs": [],
   "source": [
    "c = pd.read_csv(\"data/brain/labels.csv\", index_col=None, header=0)\n",
    "struct2coord = {}\n",
    "for struct, x, y, z in zip(c[\"PREPROCESSED\"], c[\"X\"], c[\"Y\"], c[\"Z\"]):\n",
    "    struct2coord[struct] = mni2vox(x, y, z)"
   ]
  },
  {
   "cell_type": "markdown",
   "metadata": {},
   "source": [
    "## Plot brain maps and word clouds"
   ]
  },
  {
   "cell_type": "code",
   "execution_count": null,
   "metadata": {
    "scrolled": true
   },
   "outputs": [],
   "source": [
    "verbose = False\n",
    "for i, struct in enumerate(act_bin.columns):\n",
    "    struct = act_bin.columns[i]\n",
    "    outfile = \"figures/maps/{}/{}.png\".format(prefix, struct)\n",
    "    \n",
    "    if not os.path.exists(outfile):\n",
    "        x, y, z = struct2coord[struct]\n",
    "        if verbose:\n",
    "            print(\"{} (z={})\".format(struct.title().replace(\"_\", \" \"), int(z)))\n",
    "        if not verbose:\n",
    "            plt.ioff()\n",
    "\n",
    "        fig, ax = plt.subplots(1,2, figsize=(6,6))\n",
    "        gs1 = gridspec.GridSpec(1,2)\n",
    "        gs1.update(wspace=-20, hspace=-10)\n",
    "        fig.suptitle(c[\"PRESENTABLE_TITLE\"][i], y=0.79,\n",
    "                     fontproperties=font_manager.FontProperties(fname=fname, size=24))\n",
    "\n",
    "        bg_img = image.load_img(\"data/brain/atlases/MNI152_T1_1mm_brain.nii.gz\")\n",
    "        bg_img = np.flip(np.rot90(bg_img.get_data()[:,:,int(z)]).astype(float), axis=1)\n",
    "        bg_img[bg_img == 0] = np.nan\n",
    "        bg_img = bg_img[10:198, 20:162]\n",
    "\n",
    "        bilateral_atlas = load_atlas()\n",
    "        struct_img = np.flip(np.rot90(bilateral_atlas.get_data()[:,:,int(z)]), axis=1)\n",
    "        struct_img[struct_img != i+1] = np.nan\n",
    "        struct_img[struct_img == i+1] = 1.0\n",
    "        struct_img[struct_img == 0] = np.nan\n",
    "        struct_img = struct_img[10:198, 20:162]\n",
    "    \n",
    "        ax[0].imshow(bg_img, cmap=\"Greys_r\", alpha=0.7, vmin=1)\n",
    "        ax[0].imshow(struct_img, cmap=cmap, alpha=0.6, vmin=0, vmax=1)\n",
    "        for side in [\"left\", \"right\", \"top\", \"bottom\"]:\n",
    "            ax[0].spines[side].set_visible(False)\n",
    "        ax[0].set_xticks([])\n",
    "        ax[0].set_yticks([])\n",
    "\n",
    "        def color_func(word, font_size, position, orientation, \n",
    "                   random_state=None, idx=0, **kwargs):\n",
    "            return color\n",
    "\n",
    "        top = term_map.loc[struct].sort_values(ascending=False)[:n_top]\n",
    "        vals = top.values\n",
    "        tkns = [t.replace(\"_\", \" \") for t in top.index]\n",
    "        cloud = WordCloud(background_color=\"rgba(255, 255, 255, 0)\", mode=\"RGB\", \n",
    "                          max_font_size=180, min_font_size=10, \n",
    "                          prefer_horizontal=1, scale=20, margin=3,\n",
    "                          width=1200, height=1400, font_path=fname, \n",
    "                          random_state=42).generate_from_frequencies(zip(tkns, vals))\n",
    "        ax[1].imshow(cloud.recolor(color_func=color_func, random_state=42))\n",
    "        ax[1].axis(\"off\")\n",
    "\n",
    "        plt.savefig(outfile, bbox_inches=\"tight\", dpi=250)\n",
    "        if verbose:\n",
    "            plt.show()\n",
    "        plt.close()"
   ]
  },
  {
   "cell_type": "markdown",
   "metadata": {},
   "source": [
    "## Combine into one figure"
   ]
  },
  {
   "cell_type": "code",
   "execution_count": null,
   "metadata": {},
   "outputs": [],
   "source": [
    "import os\n",
    "from PIL import Image, ImageOps"
   ]
  },
  {
   "cell_type": "code",
   "execution_count": null,
   "metadata": {},
   "outputs": [],
   "source": [
    "images = [\"figures/maps/{}/{}.png\".format(prefix, struct) for struct in act_bin.columns]\n",
    "img_w, img_h = Image.open(images[0]).size"
   ]
  },
  {
   "cell_type": "code",
   "execution_count": null,
   "metadata": {},
   "outputs": [],
   "source": [
    "pad_w, pad_h = 60, 30\n",
    "img_w += pad_w * 2\n",
    "img_h += pad_h * 2\n",
    "n_row, n_col = 19, 6\n",
    "fig_w = n_col * img_w\n",
    "fig_h = n_row * img_h\n",
    "x_coords = list(range(0, fig_w, img_w)) * n_row\n",
    "y_coords = np.repeat(list(range(0, fig_h, img_h)), n_col)\n",
    "padding = (pad_w, pad_h, pad_w, pad_h)\n",
    "white = (255,255,255,0)"
   ]
  },
  {
   "cell_type": "code",
   "execution_count": null,
   "metadata": {},
   "outputs": [],
   "source": [
    "figure = Image.new(\"RGB\", (fig_w, fig_h), color=white)\n",
    "for i, img in enumerate(images):\n",
    "    img = Image.open(img)\n",
    "    img = ImageOps.expand(img, padding, fill=white)\n",
    "    figure.paste(img, (x_coords[i], y_coords[i]))\n",
    "figure.save(\"figures/maps/{}_map.png\".format(prefix))\n",
    "figure"
   ]
  },
  {
   "cell_type": "code",
   "execution_count": null,
   "metadata": {},
   "outputs": [],
   "source": []
  }
 ],
 "metadata": {
  "kernelspec": {
   "display_name": "Python (Ontol)",
   "language": "python",
   "name": "ontol"
  },
  "language_info": {
   "codemirror_mode": {
    "name": "ipython",
    "version": 3
   },
   "file_extension": ".py",
   "mimetype": "text/x-python",
   "name": "python",
   "nbconvert_exporter": "python",
   "pygments_lexer": "ipython3",
   "version": "3.6.8"
  }
 },
 "nbformat": 4,
 "nbformat_minor": 2
}
