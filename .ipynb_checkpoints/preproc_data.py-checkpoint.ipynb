{
 "cells": [
  {
   "cell_type": "code",
   "execution_count": 1,
   "metadata": {},
   "outputs": [],
   "source": [
    "import os, shutil\n",
    "import numpy as np\n",
    "import pandas as pd\n",
    "np.random.seed(42)"
   ]
  },
  {
   "cell_type": "markdown",
   "metadata": {},
   "source": [
    "# Aggregate the corpus\n",
    "\n",
    "## Load PMIDs from articles with coordinates"
   ]
  },
  {
   "cell_type": "code",
   "execution_count": 2,
   "metadata": {},
   "outputs": [
    {
     "name": "stdout",
     "output_type": "stream",
     "text": [
      "Articles with Coordinates  18155\n"
     ]
    }
   ],
   "source": [
    "meta = pd.read_csv(\"data/metadata.csv\", encoding=\"latin1\")\n",
    "coord_pmids = list(meta[\"PMID\"].dropna().astype(int).values)\n",
    "print(\"{:26s} {}\".format(\"Articles with Coordinates\", len(coord_pmids)))"
   ]
  },
  {
   "cell_type": "markdown",
   "metadata": {},
   "source": [
    "## Load PMIDs from PubMed search for neuroimaging articles"
   ]
  },
  {
   "cell_type": "code",
   "execution_count": 3,
   "metadata": {},
   "outputs": [
    {
     "name": "stdout",
     "output_type": "stream",
     "text": [
      "Articles from PubMed       30132\n"
     ]
    }
   ],
   "source": [
    "pub_pmids = [int(pmid.strip()) for pmid in open(\"data/pubmed_pmids.txt\", \"r\").readlines()]\n",
    "print(\"{:26s} {}\".format(\"Articles from PubMed\", len(pub_pmids)))"
   ]
  },
  {
   "cell_type": "markdown",
   "metadata": {},
   "source": [
    "## Copy over available full texts to corpus directory"
   ]
  },
  {
   "cell_type": "code",
   "execution_count": 4,
   "metadata": {},
   "outputs": [],
   "source": [
    "in_dir = \"/Users/ehbeam/Dropbox/Stanford/Research/Projects/Thesis/program/nlp/corpus\"\n",
    "for pmid in set(coord_pmids+pub_pmids):\n",
    "    in_file = \"{}/{}.txt\".format(in_dir, pmid)\n",
    "    out_file = \"data/text/corpus/{}.txt\".format(pmid)\n",
    "    if os.path.isfile(in_file) and not os.path.isfile(out_file):\n",
    "        shutil.copy(in_file, out_file)"
   ]
  },
  {
   "cell_type": "code",
   "execution_count": 5,
   "metadata": {},
   "outputs": [
    {
     "name": "stdout",
     "output_type": "stream",
     "text": [
      "Articles in Corpus         29828\n"
     ]
    }
   ],
   "source": [
    "corpus_files = [file for file in os.listdir(\"data/text/corpus\") if not file.startswith(\".\")]\n",
    "print(\"{:26s} {}\".format(\"Articles in Corpus\", len(corpus_files)))"
   ]
  },
  {
   "cell_type": "markdown",
   "metadata": {},
   "source": [
    "# Split documents with coordinates into sets\n",
    "\n",
    "## Shuffle the PMIDs"
   ]
  },
  {
   "cell_type": "code",
   "execution_count": 6,
   "metadata": {},
   "outputs": [],
   "source": [
    "coord_pmids = np.random.choice(coord_pmids, size=len(coord_pmids), replace=False)"
   ]
  },
  {
   "cell_type": "markdown",
   "metadata": {},
   "source": [
    "## Split randomly into train, dev, and test sets\n",
    "\n",
    "Train: 90%, Dev: 5%, Test: 5%"
   ]
  },
  {
   "cell_type": "code",
   "execution_count": 7,
   "metadata": {},
   "outputs": [
    {
     "name": "stdout",
     "output_type": "stream",
     "text": [
      "Train  16339\n",
      "Dev    908\n",
      "Test   908\n",
      "Total  18155\n"
     ]
    }
   ],
   "source": [
    "n_docs = len(coord_pmids)\n",
    "splits = {\"train\": coord_pmids[:int(n_docs*0.9)], \n",
    "          \"dev\": coord_pmids[int(n_docs*0.9):int(n_docs*0.95)],\n",
    "          \"test\": coord_pmids[int(n_docs*0.95):]}\n",
    "for split, split_ids in splits.items():\n",
    "    print(\"{:7s}{}\".format(split.title(), len(split_ids)))\n",
    "print(\"{:7s}{}\".format(\"Total\", len(splits[\"train\"])+len(splits[\"dev\"])+len(splits[\"test\"])))"
   ]
  },
  {
   "cell_type": "markdown",
   "metadata": {},
   "source": [
    "## Export the PMID lists"
   ]
  },
  {
   "cell_type": "code",
   "execution_count": 8,
   "metadata": {},
   "outputs": [],
   "source": [
    "for split, split_ids in splits.items():\n",
    "    split_ids = list(split_ids.astype(str))\n",
    "    with open(\"data/splits/{}.txt\".format(split), \"w+\") as outfile:\n",
    "        outfile.write(\"\\n\".join(split_ids))"
   ]
  }
 ],
 "metadata": {
  "kernelspec": {
   "display_name": "Python (Ontol)",
   "language": "python",
   "name": "ontol"
  },
  "language_info": {
   "codemirror_mode": {
    "name": "ipython",
    "version": 3
   },
   "file_extension": ".py",
   "mimetype": "text/x-python",
   "name": "python",
   "nbconvert_exporter": "python",
   "pygments_lexer": "ipython3",
   "version": "3.6.8"
  }
 },
 "nbformat": 4,
 "nbformat_minor": 2
}
